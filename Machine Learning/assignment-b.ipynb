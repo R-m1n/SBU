{
 "cells": [
  {
   "cell_type": "code",
   "execution_count": 1,
   "metadata": {},
   "outputs": [],
   "source": [
    "import numpy as np\n",
    "import pandas as pd\n",
    "import plotly.express as px\n",
    "import matplotlib.pyplot as plt"
   ]
  },
  {
   "cell_type": "code",
   "execution_count": 109,
   "metadata": {},
   "outputs": [],
   "source": [
    "def standardize(data: pd.Series):\n",
    "    mean = data.mean()\n",
    "    std = data.std()\n",
    "\n",
    "    return data.apply(lambda x: (x - mean) / std)\n"
   ]
  },
  {
   "cell_type": "code",
   "execution_count": null,
   "metadata": {},
   "outputs": [],
   "source": [
    "data = pd.read_csv(\"Dummy-Data-HSS.csv\")\n",
    "data.drop(columns=[\"Influencer\"], inplace=True)\n",
    "data.fillna(0, inplace=True)\n",
    "\n",
    "for label in data.columns[:-1]:\n",
    "    data[label] = standardize(data[label])\n",
    "\n",
    "data.head(10)"
   ]
  },
  {
   "cell_type": "code",
   "execution_count": null,
   "metadata": {},
   "outputs": [],
   "source": [
    "data_size = len(data)\n",
    "test_size = int(data_size * 0.8)\n",
    "val_size = data_size - test_size\n",
    "\n",
    "test_data = data[:test_size]\n",
    "val_data = data[test_size:]"
   ]
  }
 ],
 "metadata": {
  "kernelspec": {
   "display_name": "Python 3",
   "language": "python",
   "name": "python3"
  },
  "language_info": {
   "codemirror_mode": {
    "name": "ipython",
    "version": 3
   },
   "file_extension": ".py",
   "mimetype": "text/x-python",
   "name": "python",
   "nbconvert_exporter": "python",
   "pygments_lexer": "ipython3",
   "version": "3.12.0"
  }
 },
 "nbformat": 4,
 "nbformat_minor": 2
}
