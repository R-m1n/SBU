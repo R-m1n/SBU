{
 "cells": [
  {
   "cell_type": "markdown",
   "metadata": {},
   "source": [
    "# Armin Abbasi Najarzadeh - Assignment B-1\n",
    "\n",
    "\n",
    "proof-of-work: https://github.com/R-m1n/SBU/tree/main/Machine%20Learning"
   ]
  },
  {
   "cell_type": "markdown",
   "metadata": {},
   "source": [
    "## Importing Libraries"
   ]
  },
  {
   "cell_type": "code",
   "execution_count": 1,
   "metadata": {},
   "outputs": [],
   "source": [
    "import pandas as pd\n",
    "\n",
    "import plotly.express as px\n",
    "import matplotlib.pyplot as plt"
   ]
  },
  {
   "cell_type": "markdown",
   "metadata": {},
   "source": [
    "## Importing Custom Libraries"
   ]
  },
  {
   "cell_type": "code",
   "execution_count": 2,
   "metadata": {},
   "outputs": [],
   "source": [
    "from armain import Scaler, DataLoader, StochasticRegression"
   ]
  },
  {
   "cell_type": "markdown",
   "metadata": {},
   "source": [
    "# Reading & Preprocessing Dataset"
   ]
  },
  {
   "cell_type": "code",
   "execution_count": 3,
   "metadata": {},
   "outputs": [
    {
     "data": {
      "text/html": [
       "<div>\n",
       "<style scoped>\n",
       "    .dataframe tbody tr th:only-of-type {\n",
       "        vertical-align: middle;\n",
       "    }\n",
       "\n",
       "    .dataframe tbody tr th {\n",
       "        vertical-align: top;\n",
       "    }\n",
       "\n",
       "    .dataframe thead th {\n",
       "        text-align: right;\n",
       "    }\n",
       "</style>\n",
       "<table border=\"1\" class=\"dataframe\">\n",
       "  <thead>\n",
       "    <tr style=\"text-align: right;\">\n",
       "      <th></th>\n",
       "      <th>TV</th>\n",
       "      <th>Radio</th>\n",
       "      <th>Social Media</th>\n",
       "      <th>Sales</th>\n",
       "    </tr>\n",
       "  </thead>\n",
       "  <tbody>\n",
       "    <tr>\n",
       "      <th>0</th>\n",
       "      <td>16.0</td>\n",
       "      <td>6.566231</td>\n",
       "      <td>2.907983</td>\n",
       "      <td>54.732757</td>\n",
       "    </tr>\n",
       "    <tr>\n",
       "      <th>1</th>\n",
       "      <td>13.0</td>\n",
       "      <td>9.237765</td>\n",
       "      <td>2.409567</td>\n",
       "      <td>46.677897</td>\n",
       "    </tr>\n",
       "    <tr>\n",
       "      <th>2</th>\n",
       "      <td>41.0</td>\n",
       "      <td>15.886446</td>\n",
       "      <td>2.913410</td>\n",
       "      <td>150.177829</td>\n",
       "    </tr>\n",
       "    <tr>\n",
       "      <th>3</th>\n",
       "      <td>83.0</td>\n",
       "      <td>30.020028</td>\n",
       "      <td>6.922304</td>\n",
       "      <td>298.246340</td>\n",
       "    </tr>\n",
       "    <tr>\n",
       "      <th>4</th>\n",
       "      <td>15.0</td>\n",
       "      <td>8.437408</td>\n",
       "      <td>1.405998</td>\n",
       "      <td>56.594181</td>\n",
       "    </tr>\n",
       "    <tr>\n",
       "      <th>5</th>\n",
       "      <td>29.0</td>\n",
       "      <td>9.614382</td>\n",
       "      <td>1.027163</td>\n",
       "      <td>105.889148</td>\n",
       "    </tr>\n",
       "    <tr>\n",
       "      <th>6</th>\n",
       "      <td>55.0</td>\n",
       "      <td>24.893811</td>\n",
       "      <td>4.273602</td>\n",
       "      <td>198.679825</td>\n",
       "    </tr>\n",
       "    <tr>\n",
       "      <th>7</th>\n",
       "      <td>31.0</td>\n",
       "      <td>17.355042</td>\n",
       "      <td>2.289855</td>\n",
       "      <td>108.733932</td>\n",
       "    </tr>\n",
       "    <tr>\n",
       "      <th>8</th>\n",
       "      <td>76.0</td>\n",
       "      <td>24.648898</td>\n",
       "      <td>7.130116</td>\n",
       "      <td>270.189400</td>\n",
       "    </tr>\n",
       "    <tr>\n",
       "      <th>9</th>\n",
       "      <td>13.0</td>\n",
       "      <td>0.431128</td>\n",
       "      <td>2.229423</td>\n",
       "      <td>48.280582</td>\n",
       "    </tr>\n",
       "  </tbody>\n",
       "</table>\n",
       "</div>"
      ],
      "text/plain": [
       "     TV      Radio  Social Media       Sales\n",
       "0  16.0   6.566231      2.907983   54.732757\n",
       "1  13.0   9.237765      2.409567   46.677897\n",
       "2  41.0  15.886446      2.913410  150.177829\n",
       "3  83.0  30.020028      6.922304  298.246340\n",
       "4  15.0   8.437408      1.405998   56.594181\n",
       "5  29.0   9.614382      1.027163  105.889148\n",
       "6  55.0  24.893811      4.273602  198.679825\n",
       "7  31.0  17.355042      2.289855  108.733932\n",
       "8  76.0  24.648898      7.130116  270.189400\n",
       "9  13.0   0.431128      2.229423   48.280582"
      ]
     },
     "execution_count": 3,
     "metadata": {},
     "output_type": "execute_result"
    }
   ],
   "source": [
    "data = pd.read_csv(\"Dummy-Data-HSS.csv\")\n",
    "data.drop(columns=[\"Influencer\"], inplace=True)\n",
    "data.fillna(0, inplace=True)\n",
    "\n",
    "data.head(10)"
   ]
  },
  {
   "cell_type": "markdown",
   "metadata": {},
   "source": [
    "### Defining a Scaler Object"
   ]
  },
  {
   "cell_type": "code",
   "execution_count": 4,
   "metadata": {},
   "outputs": [],
   "source": [
    "scaler = Scaler()"
   ]
  },
  {
   "cell_type": "markdown",
   "metadata": {},
   "source": [
    "### Plotting Scatter Matrix of Standardized Data"
   ]
  },
  {
   "cell_type": "code",
   "execution_count": 5,
   "metadata": {},
   "outputs": [
    {
     "data": {
      "application/vnd.plotly.v1+json": {
       "config": {
        "plotlyServerURL": "https://plot.ly"
       },
       "data": [
        {
         "dimensions": [
          {
           "axis": {
            "matches": true
           },
           "label": "TV",
           "values": [
            -1.1183931625677126,
            -1.2241680518395643,
            -0.2369357519689479,
            1.2439126978369768,
            -1.153651458991663,
            -0.6600353090563549,
            0.2566803979663603,
            -0.5895187162084538,
            0.9971046228693226,
            -1.2241680518395643,
            0.5034884729340144,
            -0.2016774555449973,
            0.5740050657819156,
            -1.6825259053509218,
            -0.483743826936602,
            -0.4132272340887008,
            0.4329718800861132,
            -0.8010684947521572,
            1.8433037370441367,
            1.561237365652532,
            -0.060644269849194965,
            1.0676212157172238,
            -0.37796893766475026,
            1.808045440620186,
            0.961846326445372,
            0.2214221015424097,
            -1.6825259053509218,
            -0.7305519019042561,
            -0.9421016804479596,
            -0.27219404839289846,
            0.6797799550537673,
            1.4907207728046308,
            -1.2594263482635148,
            1.1733961049890755,
            -0.1664191591210467,
            -0.02538597342524438,
            -0.1664191591210467,
            0.961846326445372,
            1.1028795121411743,
            0.6092633622058662,
            -0.1664191591210467,
            1.208654401413026,
            0.7150382514777179,
            1.7727871441962355,
            -0.7658101983282066,
            -1.329942941111416,
            -1.6825259053509218,
            -0.5542604197845031,
            -0.6600353090563549,
            -0.5542604197845031
           ]
          },
          {
           "axis": {
            "matches": true
           },
           "label": "Radio",
           "values": [
            -1.082505367916062,
            -0.8394953958129262,
            -0.23471326387187033,
            1.0509157829543327,
            -0.9122980329441719,
            -0.8052372474209183,
            0.5846211747803269,
            -0.10112580008458104,
            0.5623431982193621,
            -1.6405710050021034,
            0.5347169640830731,
            -0.24190919891503992,
            0.16133639822254595,
            0.3533808131004221,
            -1.6592002906833179,
            -1.3250151386742586,
            0.3535676195945913,
            -0.7787251980539793,
            1.6054302596590841,
            2.0257597148357878,
            -0.5250074712649103,
            1.5555947276327042,
            -1.4224565411538799,
            1.7098306409404358,
            0.17121167831040587,
            0.8496685699004044,
            1.4231029607153467,
            -1.0175708892237505,
            -0.8354092953339677,
            -0.4926867331512233,
            0.5158355726836912,
            0.9600429685787345,
            -1.355263450366296,
            0.8067488223017069,
            -0.19266438150418982,
            -0.0991715743473631,
            -0.021519721574936347,
            0.4693192838588174,
            0.4587978319155243,
            0.5545793501850276,
            -0.5116326653274658,
            0.8351119381344524,
            0.2885729833458812,
            1.7377683305113982,
            -0.7156252832803254,
            -1.1207990824493894,
            1.4911397586321589,
            -1.622697654431978,
            -0.8745770009411322,
            -0.6315196593661832
           ]
          },
          {
           "axis": {
            "matches": true
           },
           "label": "Social Media",
           "values": [
            -0.29065121654715953,
            -0.5408106649358377,
            -0.28792715258337187,
            1.7241742343503113,
            -1.0445113849440197,
            -1.234652053635917,
            0.394765953995867,
            -0.6008953804676503,
            1.8284770245748874,
            -0.631226719333909,
            0.8353826740065672,
            -0.14663240196133961,
            0.21786589863237327,
            -0.22849849283816692,
            -0.5593118376380395,
            -1.7198788149702995,
            -1.277997775197389,
            -0.820044086383001,
            0.09396856878719267,
            0.5769398643125908,
            0.19951401787093817,
            -0.32856177901748307,
            0.5368560452760883,
            1.706221363012192,
            -1.1342616430001777,
            0.2879495092532699,
            0.5707083537177655,
            -0.6562945872500658,
            -0.21648125300297993,
            -0.7608389073095022,
            1.0469927768476601,
            1.4780837166065754,
            0.03575480277625713,
            0.8916804456356481,
            -0.33781529702126284,
            -0.7940374632267088,
            0.2972403828663507,
            1.3615272410539547,
            -0.6515525263633741,
            -0.033831562208248844,
            -0.44839403388556576,
            1.0661298205489107,
            -0.13221602676525773,
            2.5308933824233484,
            -1.4092603742149288,
            -0.9515987625288936,
            2.155370966567992,
            -0.40704781890549985,
            -1.7293686394380394,
            -0.46189838754263973
           ]
          },
          {
           "axis": {
            "matches": true
           },
           "label": "Sales",
           "values": [
            -1.37614666144412,
            -1.4589849189673818,
            -0.3945649507998687,
            1.1282097698572473,
            -1.357003300985438,
            -0.8500411603404782,
            0.10424207380925016,
            -0.8207846655698767,
            0.8396649713859604,
            -1.4425024908846813,
            0.37452464902198646,
            -0.4422205265880289,
            0.42256613438041546,
            0.9011231944075863,
            -0.6911774378040769,
            -0.6686580676779583,
            0.24909144149739426,
            -1.0153012108758102,
            1.699585631721841,
            1.4480933753708336,
            -0.2710149728869045,
            0.903550161978316,
            -0.6176630689832526,
            1.6590341506594986,
            0.8608578213937585,
            0.040295418322475025,
            1.5875770426871019,
            -0.9440369529948047,
            -1.1472173278163735,
            -0.5065506378211915,
            0.4762360201603419,
            1.3831137649294927,
            -1.5195149913333412,
            1.051399052714723,
            -0.3899507550743448,
            -0.27519224501038936,
            -0.33881022076400474,
            0.7659400817536802,
            0.9567979581694732,
            0.4435220268639782,
            -0.4096916776973086,
            1.0943341994808553,
            0.5582412078697335,
            1.6786924341299159,
            -0.9936798468063166,
            -1.6041068187640117,
            1.3413350078638173,
            -0.7536425019931808,
            -0.8913432142954281,
            -0.788226966251101
           ]
          }
         ],
         "hovertemplate": "%{xaxis.title.text}=%{x}<br>%{yaxis.title.text}=%{y}<extra></extra>",
         "legendgroup": "",
         "marker": {
          "color": "#636efa",
          "symbol": "circle"
         },
         "name": "",
         "showlegend": false,
         "type": "splom"
        }
       ],
       "layout": {
        "dragmode": "select",
        "height": 1000,
        "hovermode": "closest",
        "legend": {
         "tracegroupgap": 0
        },
        "margin": {
         "t": 60
        },
        "template": {
         "data": {
          "bar": [
           {
            "error_x": {
             "color": "#2a3f5f"
            },
            "error_y": {
             "color": "#2a3f5f"
            },
            "marker": {
             "line": {
              "color": "#E5ECF6",
              "width": 0.5
             },
             "pattern": {
              "fillmode": "overlay",
              "size": 10,
              "solidity": 0.2
             }
            },
            "type": "bar"
           }
          ],
          "barpolar": [
           {
            "marker": {
             "line": {
              "color": "#E5ECF6",
              "width": 0.5
             },
             "pattern": {
              "fillmode": "overlay",
              "size": 10,
              "solidity": 0.2
             }
            },
            "type": "barpolar"
           }
          ],
          "carpet": [
           {
            "aaxis": {
             "endlinecolor": "#2a3f5f",
             "gridcolor": "white",
             "linecolor": "white",
             "minorgridcolor": "white",
             "startlinecolor": "#2a3f5f"
            },
            "baxis": {
             "endlinecolor": "#2a3f5f",
             "gridcolor": "white",
             "linecolor": "white",
             "minorgridcolor": "white",
             "startlinecolor": "#2a3f5f"
            },
            "type": "carpet"
           }
          ],
          "choropleth": [
           {
            "colorbar": {
             "outlinewidth": 0,
             "ticks": ""
            },
            "type": "choropleth"
           }
          ],
          "contour": [
           {
            "colorbar": {
             "outlinewidth": 0,
             "ticks": ""
            },
            "colorscale": [
             [
              0,
              "#0d0887"
             ],
             [
              0.1111111111111111,
              "#46039f"
             ],
             [
              0.2222222222222222,
              "#7201a8"
             ],
             [
              0.3333333333333333,
              "#9c179e"
             ],
             [
              0.4444444444444444,
              "#bd3786"
             ],
             [
              0.5555555555555556,
              "#d8576b"
             ],
             [
              0.6666666666666666,
              "#ed7953"
             ],
             [
              0.7777777777777778,
              "#fb9f3a"
             ],
             [
              0.8888888888888888,
              "#fdca26"
             ],
             [
              1,
              "#f0f921"
             ]
            ],
            "type": "contour"
           }
          ],
          "contourcarpet": [
           {
            "colorbar": {
             "outlinewidth": 0,
             "ticks": ""
            },
            "type": "contourcarpet"
           }
          ],
          "heatmap": [
           {
            "colorbar": {
             "outlinewidth": 0,
             "ticks": ""
            },
            "colorscale": [
             [
              0,
              "#0d0887"
             ],
             [
              0.1111111111111111,
              "#46039f"
             ],
             [
              0.2222222222222222,
              "#7201a8"
             ],
             [
              0.3333333333333333,
              "#9c179e"
             ],
             [
              0.4444444444444444,
              "#bd3786"
             ],
             [
              0.5555555555555556,
              "#d8576b"
             ],
             [
              0.6666666666666666,
              "#ed7953"
             ],
             [
              0.7777777777777778,
              "#fb9f3a"
             ],
             [
              0.8888888888888888,
              "#fdca26"
             ],
             [
              1,
              "#f0f921"
             ]
            ],
            "type": "heatmap"
           }
          ],
          "heatmapgl": [
           {
            "colorbar": {
             "outlinewidth": 0,
             "ticks": ""
            },
            "colorscale": [
             [
              0,
              "#0d0887"
             ],
             [
              0.1111111111111111,
              "#46039f"
             ],
             [
              0.2222222222222222,
              "#7201a8"
             ],
             [
              0.3333333333333333,
              "#9c179e"
             ],
             [
              0.4444444444444444,
              "#bd3786"
             ],
             [
              0.5555555555555556,
              "#d8576b"
             ],
             [
              0.6666666666666666,
              "#ed7953"
             ],
             [
              0.7777777777777778,
              "#fb9f3a"
             ],
             [
              0.8888888888888888,
              "#fdca26"
             ],
             [
              1,
              "#f0f921"
             ]
            ],
            "type": "heatmapgl"
           }
          ],
          "histogram": [
           {
            "marker": {
             "pattern": {
              "fillmode": "overlay",
              "size": 10,
              "solidity": 0.2
             }
            },
            "type": "histogram"
           }
          ],
          "histogram2d": [
           {
            "colorbar": {
             "outlinewidth": 0,
             "ticks": ""
            },
            "colorscale": [
             [
              0,
              "#0d0887"
             ],
             [
              0.1111111111111111,
              "#46039f"
             ],
             [
              0.2222222222222222,
              "#7201a8"
             ],
             [
              0.3333333333333333,
              "#9c179e"
             ],
             [
              0.4444444444444444,
              "#bd3786"
             ],
             [
              0.5555555555555556,
              "#d8576b"
             ],
             [
              0.6666666666666666,
              "#ed7953"
             ],
             [
              0.7777777777777778,
              "#fb9f3a"
             ],
             [
              0.8888888888888888,
              "#fdca26"
             ],
             [
              1,
              "#f0f921"
             ]
            ],
            "type": "histogram2d"
           }
          ],
          "histogram2dcontour": [
           {
            "colorbar": {
             "outlinewidth": 0,
             "ticks": ""
            },
            "colorscale": [
             [
              0,
              "#0d0887"
             ],
             [
              0.1111111111111111,
              "#46039f"
             ],
             [
              0.2222222222222222,
              "#7201a8"
             ],
             [
              0.3333333333333333,
              "#9c179e"
             ],
             [
              0.4444444444444444,
              "#bd3786"
             ],
             [
              0.5555555555555556,
              "#d8576b"
             ],
             [
              0.6666666666666666,
              "#ed7953"
             ],
             [
              0.7777777777777778,
              "#fb9f3a"
             ],
             [
              0.8888888888888888,
              "#fdca26"
             ],
             [
              1,
              "#f0f921"
             ]
            ],
            "type": "histogram2dcontour"
           }
          ],
          "mesh3d": [
           {
            "colorbar": {
             "outlinewidth": 0,
             "ticks": ""
            },
            "type": "mesh3d"
           }
          ],
          "parcoords": [
           {
            "line": {
             "colorbar": {
              "outlinewidth": 0,
              "ticks": ""
             }
            },
            "type": "parcoords"
           }
          ],
          "pie": [
           {
            "automargin": true,
            "type": "pie"
           }
          ],
          "scatter": [
           {
            "fillpattern": {
             "fillmode": "overlay",
             "size": 10,
             "solidity": 0.2
            },
            "type": "scatter"
           }
          ],
          "scatter3d": [
           {
            "line": {
             "colorbar": {
              "outlinewidth": 0,
              "ticks": ""
             }
            },
            "marker": {
             "colorbar": {
              "outlinewidth": 0,
              "ticks": ""
             }
            },
            "type": "scatter3d"
           }
          ],
          "scattercarpet": [
           {
            "marker": {
             "colorbar": {
              "outlinewidth": 0,
              "ticks": ""
             }
            },
            "type": "scattercarpet"
           }
          ],
          "scattergeo": [
           {
            "marker": {
             "colorbar": {
              "outlinewidth": 0,
              "ticks": ""
             }
            },
            "type": "scattergeo"
           }
          ],
          "scattergl": [
           {
            "marker": {
             "colorbar": {
              "outlinewidth": 0,
              "ticks": ""
             }
            },
            "type": "scattergl"
           }
          ],
          "scattermapbox": [
           {
            "marker": {
             "colorbar": {
              "outlinewidth": 0,
              "ticks": ""
             }
            },
            "type": "scattermapbox"
           }
          ],
          "scatterpolar": [
           {
            "marker": {
             "colorbar": {
              "outlinewidth": 0,
              "ticks": ""
             }
            },
            "type": "scatterpolar"
           }
          ],
          "scatterpolargl": [
           {
            "marker": {
             "colorbar": {
              "outlinewidth": 0,
              "ticks": ""
             }
            },
            "type": "scatterpolargl"
           }
          ],
          "scatterternary": [
           {
            "marker": {
             "colorbar": {
              "outlinewidth": 0,
              "ticks": ""
             }
            },
            "type": "scatterternary"
           }
          ],
          "surface": [
           {
            "colorbar": {
             "outlinewidth": 0,
             "ticks": ""
            },
            "colorscale": [
             [
              0,
              "#0d0887"
             ],
             [
              0.1111111111111111,
              "#46039f"
             ],
             [
              0.2222222222222222,
              "#7201a8"
             ],
             [
              0.3333333333333333,
              "#9c179e"
             ],
             [
              0.4444444444444444,
              "#bd3786"
             ],
             [
              0.5555555555555556,
              "#d8576b"
             ],
             [
              0.6666666666666666,
              "#ed7953"
             ],
             [
              0.7777777777777778,
              "#fb9f3a"
             ],
             [
              0.8888888888888888,
              "#fdca26"
             ],
             [
              1,
              "#f0f921"
             ]
            ],
            "type": "surface"
           }
          ],
          "table": [
           {
            "cells": {
             "fill": {
              "color": "#EBF0F8"
             },
             "line": {
              "color": "white"
             }
            },
            "header": {
             "fill": {
              "color": "#C8D4E3"
             },
             "line": {
              "color": "white"
             }
            },
            "type": "table"
           }
          ]
         },
         "layout": {
          "annotationdefaults": {
           "arrowcolor": "#2a3f5f",
           "arrowhead": 0,
           "arrowwidth": 1
          },
          "autotypenumbers": "strict",
          "coloraxis": {
           "colorbar": {
            "outlinewidth": 0,
            "ticks": ""
           }
          },
          "colorscale": {
           "diverging": [
            [
             0,
             "#8e0152"
            ],
            [
             0.1,
             "#c51b7d"
            ],
            [
             0.2,
             "#de77ae"
            ],
            [
             0.3,
             "#f1b6da"
            ],
            [
             0.4,
             "#fde0ef"
            ],
            [
             0.5,
             "#f7f7f7"
            ],
            [
             0.6,
             "#e6f5d0"
            ],
            [
             0.7,
             "#b8e186"
            ],
            [
             0.8,
             "#7fbc41"
            ],
            [
             0.9,
             "#4d9221"
            ],
            [
             1,
             "#276419"
            ]
           ],
           "sequential": [
            [
             0,
             "#0d0887"
            ],
            [
             0.1111111111111111,
             "#46039f"
            ],
            [
             0.2222222222222222,
             "#7201a8"
            ],
            [
             0.3333333333333333,
             "#9c179e"
            ],
            [
             0.4444444444444444,
             "#bd3786"
            ],
            [
             0.5555555555555556,
             "#d8576b"
            ],
            [
             0.6666666666666666,
             "#ed7953"
            ],
            [
             0.7777777777777778,
             "#fb9f3a"
            ],
            [
             0.8888888888888888,
             "#fdca26"
            ],
            [
             1,
             "#f0f921"
            ]
           ],
           "sequentialminus": [
            [
             0,
             "#0d0887"
            ],
            [
             0.1111111111111111,
             "#46039f"
            ],
            [
             0.2222222222222222,
             "#7201a8"
            ],
            [
             0.3333333333333333,
             "#9c179e"
            ],
            [
             0.4444444444444444,
             "#bd3786"
            ],
            [
             0.5555555555555556,
             "#d8576b"
            ],
            [
             0.6666666666666666,
             "#ed7953"
            ],
            [
             0.7777777777777778,
             "#fb9f3a"
            ],
            [
             0.8888888888888888,
             "#fdca26"
            ],
            [
             1,
             "#f0f921"
            ]
           ]
          },
          "colorway": [
           "#636efa",
           "#EF553B",
           "#00cc96",
           "#ab63fa",
           "#FFA15A",
           "#19d3f3",
           "#FF6692",
           "#B6E880",
           "#FF97FF",
           "#FECB52"
          ],
          "font": {
           "color": "#2a3f5f"
          },
          "geo": {
           "bgcolor": "white",
           "lakecolor": "white",
           "landcolor": "#E5ECF6",
           "showlakes": true,
           "showland": true,
           "subunitcolor": "white"
          },
          "hoverlabel": {
           "align": "left"
          },
          "hovermode": "closest",
          "mapbox": {
           "style": "light"
          },
          "paper_bgcolor": "white",
          "plot_bgcolor": "#E5ECF6",
          "polar": {
           "angularaxis": {
            "gridcolor": "white",
            "linecolor": "white",
            "ticks": ""
           },
           "bgcolor": "#E5ECF6",
           "radialaxis": {
            "gridcolor": "white",
            "linecolor": "white",
            "ticks": ""
           }
          },
          "scene": {
           "xaxis": {
            "backgroundcolor": "#E5ECF6",
            "gridcolor": "white",
            "gridwidth": 2,
            "linecolor": "white",
            "showbackground": true,
            "ticks": "",
            "zerolinecolor": "white"
           },
           "yaxis": {
            "backgroundcolor": "#E5ECF6",
            "gridcolor": "white",
            "gridwidth": 2,
            "linecolor": "white",
            "showbackground": true,
            "ticks": "",
            "zerolinecolor": "white"
           },
           "zaxis": {
            "backgroundcolor": "#E5ECF6",
            "gridcolor": "white",
            "gridwidth": 2,
            "linecolor": "white",
            "showbackground": true,
            "ticks": "",
            "zerolinecolor": "white"
           }
          },
          "shapedefaults": {
           "line": {
            "color": "#2a3f5f"
           }
          },
          "ternary": {
           "aaxis": {
            "gridcolor": "white",
            "linecolor": "white",
            "ticks": ""
           },
           "baxis": {
            "gridcolor": "white",
            "linecolor": "white",
            "ticks": ""
           },
           "bgcolor": "#E5ECF6",
           "caxis": {
            "gridcolor": "white",
            "linecolor": "white",
            "ticks": ""
           }
          },
          "title": {
           "x": 0.05
          },
          "xaxis": {
           "automargin": true,
           "gridcolor": "white",
           "linecolor": "white",
           "ticks": "",
           "title": {
            "standoff": 15
           },
           "zerolinecolor": "white",
           "zerolinewidth": 2
          },
          "yaxis": {
           "automargin": true,
           "gridcolor": "white",
           "linecolor": "white",
           "ticks": "",
           "title": {
            "standoff": 15
           },
           "zerolinecolor": "white",
           "zerolinewidth": 2
          }
         }
        },
        "title": {
         "text": "Marketing Data"
        },
        "width": 1000
       }
      }
     },
     "metadata": {},
     "output_type": "display_data"
    }
   ],
   "source": [
    "samples = data.head(50).copy(deep=True)\n",
    "\n",
    "scaler.standardize(samples)\n",
    "\n",
    "fig = px.scatter_matrix(samples, dimensions=[\"TV\", \"Radio\", \"Social Media\", \"Sales\"])\n",
    "\n",
    "fig.update_layout(\n",
    "    title='Marketing Data',\n",
    "    dragmode='select',\n",
    "    width=1000,\n",
    "    height=1000,\n",
    "    hovermode='closest',\n",
    ")\n",
    "\n",
    "fig.show()"
   ]
  },
  {
   "cell_type": "markdown",
   "metadata": {},
   "source": [
    "### Standardizing the Data (Excluding the Target Values)"
   ]
  },
  {
   "cell_type": "code",
   "execution_count": 6,
   "metadata": {},
   "outputs": [],
   "source": [
    "scaler.standardize(data, exclude=[\"Sales\"])"
   ]
  },
  {
   "cell_type": "markdown",
   "metadata": {},
   "source": [
    "# Training & Evaluating Models"
   ]
  },
  {
   "cell_type": "markdown",
   "metadata": {},
   "source": [
    "### Setting Hyperparameters"
   ]
  },
  {
   "cell_type": "code",
   "execution_count": 7,
   "metadata": {},
   "outputs": [],
   "source": [
    "target_label = \"Sales\"\n",
    "data_split = 0.8\n",
    "\n",
    "epoch = 15\n",
    "learning_rate = 0.0001\n",
    "\n",
    "gaussian_parameter = 10\n",
    "multiquadratic_parameter = 0.001\n",
    "\n",
    "ridge = 1\n",
    "lasso = 0.1"
   ]
  },
  {
   "cell_type": "markdown",
   "metadata": {},
   "source": [
    "### Loading Data into multiple DataLoaders Based on Different Basis Functions\n",
    "\n",
    "- Splitting Data into two Training and Validation Subsets\n",
    "- Vectorizing Inputs (Features) and Output (Ground Truth)"
   ]
  },
  {
   "cell_type": "code",
   "execution_count": 8,
   "metadata": {},
   "outputs": [
    {
     "data": {
      "text/html": [
       "<div>\n",
       "<style scoped>\n",
       "    .dataframe tbody tr th:only-of-type {\n",
       "        vertical-align: middle;\n",
       "    }\n",
       "\n",
       "    .dataframe tbody tr th {\n",
       "        vertical-align: top;\n",
       "    }\n",
       "\n",
       "    .dataframe thead th {\n",
       "        text-align: right;\n",
       "    }\n",
       "</style>\n",
       "<table border=\"1\" class=\"dataframe\">\n",
       "  <thead>\n",
       "    <tr style=\"text-align: right;\">\n",
       "      <th></th>\n",
       "      <th>TV</th>\n",
       "      <th>Radio</th>\n",
       "      <th>Social Media</th>\n",
       "      <th>Sales</th>\n",
       "    </tr>\n",
       "  </thead>\n",
       "  <tbody>\n",
       "    <tr>\n",
       "      <th>0</th>\n",
       "      <td>-1.447401</td>\n",
       "      <td>-1.195158</td>\n",
       "      <td>-0.185872</td>\n",
       "      <td>54.732757</td>\n",
       "    </tr>\n",
       "    <tr>\n",
       "      <th>1</th>\n",
       "      <td>-1.561825</td>\n",
       "      <td>-0.919390</td>\n",
       "      <td>-0.410942</td>\n",
       "      <td>46.677897</td>\n",
       "    </tr>\n",
       "    <tr>\n",
       "      <th>2</th>\n",
       "      <td>-0.493874</td>\n",
       "      <td>-0.233083</td>\n",
       "      <td>-0.183421</td>\n",
       "      <td>150.177829</td>\n",
       "    </tr>\n",
       "    <tr>\n",
       "      <th>3</th>\n",
       "      <td>1.108052</td>\n",
       "      <td>1.225849</td>\n",
       "      <td>1.626880</td>\n",
       "      <td>298.246340</td>\n",
       "    </tr>\n",
       "    <tr>\n",
       "      <th>4</th>\n",
       "      <td>-1.485542</td>\n",
       "      <td>-1.002007</td>\n",
       "      <td>-0.864125</td>\n",
       "      <td>56.594181</td>\n",
       "    </tr>\n",
       "    <tr>\n",
       "      <th>5</th>\n",
       "      <td>-0.951567</td>\n",
       "      <td>-0.880514</td>\n",
       "      <td>-1.035196</td>\n",
       "      <td>105.889148</td>\n",
       "    </tr>\n",
       "    <tr>\n",
       "      <th>6</th>\n",
       "      <td>0.040102</td>\n",
       "      <td>0.696698</td>\n",
       "      <td>0.430803</td>\n",
       "      <td>198.679825</td>\n",
       "    </tr>\n",
       "    <tr>\n",
       "      <th>7</th>\n",
       "      <td>-0.875285</td>\n",
       "      <td>-0.081488</td>\n",
       "      <td>-0.465001</td>\n",
       "      <td>108.733932</td>\n",
       "    </tr>\n",
       "    <tr>\n",
       "      <th>8</th>\n",
       "      <td>0.841065</td>\n",
       "      <td>0.671417</td>\n",
       "      <td>1.720722</td>\n",
       "      <td>270.189400</td>\n",
       "    </tr>\n",
       "    <tr>\n",
       "      <th>9</th>\n",
       "      <td>-1.561825</td>\n",
       "      <td>-1.828452</td>\n",
       "      <td>-0.492290</td>\n",
       "      <td>48.280582</td>\n",
       "    </tr>\n",
       "  </tbody>\n",
       "</table>\n",
       "</div>"
      ],
      "text/plain": [
       "         TV     Radio  Social Media       Sales\n",
       "0 -1.447401 -1.195158     -0.185872   54.732757\n",
       "1 -1.561825 -0.919390     -0.410942   46.677897\n",
       "2 -0.493874 -0.233083     -0.183421  150.177829\n",
       "3  1.108052  1.225849      1.626880  298.246340\n",
       "4 -1.485542 -1.002007     -0.864125   56.594181\n",
       "5 -0.951567 -0.880514     -1.035196  105.889148\n",
       "6  0.040102  0.696698      0.430803  198.679825\n",
       "7 -0.875285 -0.081488     -0.465001  108.733932\n",
       "8  0.841065  0.671417      1.720722  270.189400\n",
       "9 -1.561825 -1.828452     -0.492290   48.280582"
      ]
     },
     "execution_count": 8,
     "metadata": {},
     "output_type": "execute_result"
    }
   ],
   "source": [
    "linear_loader = DataLoader(data,\n",
    "                           target_label=target_label,\n",
    "                           split=data_split)\n",
    "\n",
    "linear_loader.head(10)"
   ]
  },
  {
   "cell_type": "markdown",
   "metadata": {},
   "source": [
    "- Applying the Guassian Radial Basis Function to all the Inputs (Features)"
   ]
  },
  {
   "cell_type": "code",
   "execution_count": 9,
   "metadata": {},
   "outputs": [
    {
     "data": {
      "text/html": [
       "<div>\n",
       "<style scoped>\n",
       "    .dataframe tbody tr th:only-of-type {\n",
       "        vertical-align: middle;\n",
       "    }\n",
       "\n",
       "    .dataframe tbody tr th {\n",
       "        vertical-align: top;\n",
       "    }\n",
       "\n",
       "    .dataframe thead th {\n",
       "        text-align: right;\n",
       "    }\n",
       "</style>\n",
       "<table border=\"1\" class=\"dataframe\">\n",
       "  <thead>\n",
       "    <tr style=\"text-align: right;\">\n",
       "      <th></th>\n",
       "      <th>TV</th>\n",
       "      <th>Radio</th>\n",
       "      <th>Social Media</th>\n",
       "      <th>Sales</th>\n",
       "    </tr>\n",
       "  </thead>\n",
       "  <tbody>\n",
       "    <tr>\n",
       "      <th>0</th>\n",
       "      <td>0.989580</td>\n",
       "      <td>0.992883</td>\n",
       "      <td>0.999827</td>\n",
       "      <td>54.732757</td>\n",
       "    </tr>\n",
       "    <tr>\n",
       "      <th>1</th>\n",
       "      <td>0.987878</td>\n",
       "      <td>0.995783</td>\n",
       "      <td>0.999156</td>\n",
       "      <td>46.677897</td>\n",
       "    </tr>\n",
       "    <tr>\n",
       "      <th>2</th>\n",
       "      <td>0.998781</td>\n",
       "      <td>0.999728</td>\n",
       "      <td>0.999832</td>\n",
       "      <td>150.177829</td>\n",
       "    </tr>\n",
       "    <tr>\n",
       "      <th>3</th>\n",
       "      <td>0.993880</td>\n",
       "      <td>0.992515</td>\n",
       "      <td>0.986853</td>\n",
       "      <td>298.246340</td>\n",
       "    </tr>\n",
       "    <tr>\n",
       "      <th>4</th>\n",
       "      <td>0.989026</td>\n",
       "      <td>0.994992</td>\n",
       "      <td>0.996273</td>\n",
       "      <td>56.594181</td>\n",
       "    </tr>\n",
       "    <tr>\n",
       "      <th>5</th>\n",
       "      <td>0.995483</td>\n",
       "      <td>0.996131</td>\n",
       "      <td>0.994656</td>\n",
       "      <td>105.889148</td>\n",
       "    </tr>\n",
       "    <tr>\n",
       "      <th>6</th>\n",
       "      <td>0.999992</td>\n",
       "      <td>0.997576</td>\n",
       "      <td>0.999072</td>\n",
       "      <td>198.679825</td>\n",
       "    </tr>\n",
       "    <tr>\n",
       "      <th>7</th>\n",
       "      <td>0.996177</td>\n",
       "      <td>0.999967</td>\n",
       "      <td>0.998919</td>\n",
       "      <td>108.733932</td>\n",
       "    </tr>\n",
       "    <tr>\n",
       "      <th>8</th>\n",
       "      <td>0.996469</td>\n",
       "      <td>0.997749</td>\n",
       "      <td>0.985305</td>\n",
       "      <td>270.189400</td>\n",
       "    </tr>\n",
       "    <tr>\n",
       "      <th>9</th>\n",
       "      <td>0.987878</td>\n",
       "      <td>0.983423</td>\n",
       "      <td>0.998789</td>\n",
       "      <td>48.280582</td>\n",
       "    </tr>\n",
       "  </tbody>\n",
       "</table>\n",
       "</div>"
      ],
      "text/plain": [
       "         TV     Radio  Social Media       Sales\n",
       "0  0.989580  0.992883      0.999827   54.732757\n",
       "1  0.987878  0.995783      0.999156   46.677897\n",
       "2  0.998781  0.999728      0.999832  150.177829\n",
       "3  0.993880  0.992515      0.986853  298.246340\n",
       "4  0.989026  0.994992      0.996273   56.594181\n",
       "5  0.995483  0.996131      0.994656  105.889148\n",
       "6  0.999992  0.997576      0.999072  198.679825\n",
       "7  0.996177  0.999967      0.998919  108.733932\n",
       "8  0.996469  0.997749      0.985305  270.189400\n",
       "9  0.987878  0.983423      0.998789   48.280582"
      ]
     },
     "execution_count": 9,
     "metadata": {},
     "output_type": "execute_result"
    }
   ],
   "source": [
    "gaussian_loader = DataLoader(data, target_label=target_label,\n",
    "                             split=data_split, basis=\"gaussian\",\n",
    "                             gaussian_parameter=gaussian_parameter)\n",
    "\n",
    "gaussian_loader.head(10)"
   ]
  },
  {
   "cell_type": "markdown",
   "metadata": {},
   "source": [
    "- Applying the Multiquadratic Radial Basis Function to all the Inputs (Features)"
   ]
  },
  {
   "cell_type": "code",
   "execution_count": 10,
   "metadata": {},
   "outputs": [
    {
     "data": {
      "text/html": [
       "<div>\n",
       "<style scoped>\n",
       "    .dataframe tbody tr th:only-of-type {\n",
       "        vertical-align: middle;\n",
       "    }\n",
       "\n",
       "    .dataframe tbody tr th {\n",
       "        vertical-align: top;\n",
       "    }\n",
       "\n",
       "    .dataframe thead th {\n",
       "        text-align: right;\n",
       "    }\n",
       "</style>\n",
       "<table border=\"1\" class=\"dataframe\">\n",
       "  <thead>\n",
       "    <tr style=\"text-align: right;\">\n",
       "      <th></th>\n",
       "      <th>TV</th>\n",
       "      <th>Radio</th>\n",
       "      <th>Social Media</th>\n",
       "      <th>Sales</th>\n",
       "    </tr>\n",
       "  </thead>\n",
       "  <tbody>\n",
       "    <tr>\n",
       "      <th>0</th>\n",
       "      <td>1.447402</td>\n",
       "      <td>1.195159</td>\n",
       "      <td>0.185874</td>\n",
       "      <td>54.732757</td>\n",
       "    </tr>\n",
       "    <tr>\n",
       "      <th>1</th>\n",
       "      <td>1.561825</td>\n",
       "      <td>0.919391</td>\n",
       "      <td>0.410943</td>\n",
       "      <td>46.677897</td>\n",
       "    </tr>\n",
       "    <tr>\n",
       "      <th>2</th>\n",
       "      <td>0.493875</td>\n",
       "      <td>0.233085</td>\n",
       "      <td>0.183424</td>\n",
       "      <td>150.177829</td>\n",
       "    </tr>\n",
       "    <tr>\n",
       "      <th>3</th>\n",
       "      <td>1.108053</td>\n",
       "      <td>1.225850</td>\n",
       "      <td>1.626880</td>\n",
       "      <td>298.246340</td>\n",
       "    </tr>\n",
       "    <tr>\n",
       "      <th>4</th>\n",
       "      <td>1.485543</td>\n",
       "      <td>1.002007</td>\n",
       "      <td>0.864125</td>\n",
       "      <td>56.594181</td>\n",
       "    </tr>\n",
       "    <tr>\n",
       "      <th>5</th>\n",
       "      <td>0.951568</td>\n",
       "      <td>0.880515</td>\n",
       "      <td>1.035196</td>\n",
       "      <td>105.889148</td>\n",
       "    </tr>\n",
       "    <tr>\n",
       "      <th>6</th>\n",
       "      <td>0.040114</td>\n",
       "      <td>0.696699</td>\n",
       "      <td>0.430804</td>\n",
       "      <td>198.679825</td>\n",
       "    </tr>\n",
       "    <tr>\n",
       "      <th>7</th>\n",
       "      <td>0.875285</td>\n",
       "      <td>0.081494</td>\n",
       "      <td>0.465002</td>\n",
       "      <td>108.733932</td>\n",
       "    </tr>\n",
       "    <tr>\n",
       "      <th>8</th>\n",
       "      <td>0.841065</td>\n",
       "      <td>0.671418</td>\n",
       "      <td>1.720722</td>\n",
       "      <td>270.189400</td>\n",
       "    </tr>\n",
       "    <tr>\n",
       "      <th>9</th>\n",
       "      <td>1.561825</td>\n",
       "      <td>1.828452</td>\n",
       "      <td>0.492291</td>\n",
       "      <td>48.280582</td>\n",
       "    </tr>\n",
       "  </tbody>\n",
       "</table>\n",
       "</div>"
      ],
      "text/plain": [
       "         TV     Radio  Social Media       Sales\n",
       "0  1.447402  1.195159      0.185874   54.732757\n",
       "1  1.561825  0.919391      0.410943   46.677897\n",
       "2  0.493875  0.233085      0.183424  150.177829\n",
       "3  1.108053  1.225850      1.626880  298.246340\n",
       "4  1.485543  1.002007      0.864125   56.594181\n",
       "5  0.951568  0.880515      1.035196  105.889148\n",
       "6  0.040114  0.696699      0.430804  198.679825\n",
       "7  0.875285  0.081494      0.465002  108.733932\n",
       "8  0.841065  0.671418      1.720722  270.189400\n",
       "9  1.561825  1.828452      0.492291   48.280582"
      ]
     },
     "execution_count": 10,
     "metadata": {},
     "output_type": "execute_result"
    }
   ],
   "source": [
    "multiquadratic_loader = DataLoader(data, target_label=target_label,\n",
    "                                   split=data_split, basis=\"multiquadratic\",\n",
    "                                   multiquadratic_parameter=multiquadratic_parameter)\n",
    "\n",
    "multiquadratic_loader.head(10)"
   ]
  },
  {
   "cell_type": "markdown",
   "metadata": {},
   "source": [
    "### Training the Linear Model"
   ]
  },
  {
   "cell_type": "code",
   "execution_count": 11,
   "metadata": {},
   "outputs": [],
   "source": [
    "linear = StochasticRegression()\n",
    "\n",
    "linear_train_rmsd, linear_val_rmsd = linear.train(linear_loader,\n",
    "                                                  epoch=epoch,\n",
    "                                                  learning_rate=learning_rate)"
   ]
  },
  {
   "cell_type": "markdown",
   "metadata": {},
   "source": [
    "### Training the Guassian Model "
   ]
  },
  {
   "cell_type": "code",
   "execution_count": 12,
   "metadata": {},
   "outputs": [],
   "source": [
    "gaussian = StochasticRegression()\n",
    "\n",
    "gaussian_train_rmsd, gaussian_val_rmsd = gaussian.train(gaussian_loader,\n",
    "                                                        epoch=epoch,\n",
    "                                                        learning_rate=learning_rate,\n",
    "                                                        ridge=ridge)"
   ]
  },
  {
   "cell_type": "markdown",
   "metadata": {},
   "source": [
    "### Training the Multiquadratic Model "
   ]
  },
  {
   "cell_type": "code",
   "execution_count": 13,
   "metadata": {},
   "outputs": [],
   "source": [
    "multiquadratic = StochasticRegression()\n",
    "\n",
    "multiquadratic_train_rmsd, multiquadratic_val_rmsd = multiquadratic.train(multiquadratic_loader,\n",
    "                                                                          epoch=epoch,\n",
    "                                                                          learning_rate=learning_rate,\n",
    "                                                                          ridge=ridge)"
   ]
  },
  {
   "cell_type": "markdown",
   "metadata": {},
   "source": [
    "# Plotting the RMSD of Each Model per Epoch"
   ]
  },
  {
   "cell_type": "code",
   "execution_count": 14,
   "metadata": {},
   "outputs": [
    {
     "data": {
      "image/png": "[encoded data removed]",
      "text/plain": [
       "<Figure size 2500x600 with 3 Axes>"
      ]
     },
     "metadata": {},
     "output_type": "display_data"
    }
   ],
   "source": [
    "fig, axs = plt.subplots(1, 3, figsize=(25, 6))\n",
    "\n",
    "axs = axs.flatten()\n",
    "\n",
    "axs[0].plot(linear_train_rmsd, color=\"navy\", label=\"Training RMSD\")\n",
    "axs[0].plot(linear_val_rmsd, color=\"red\", label=\"Validation RMSD\")\n",
    "axs[0].set_title(\"Linear Model\", size=16, family=\"serif\")\n",
    "axs[0].legend(loc = \"upper right\")\n",
    "\n",
    "axs[1].plot(gaussian_train_rmsd, color=\"navy\", label=\"Training RMSD\")\n",
    "axs[1].plot(gaussian_val_rmsd, color=\"red\", label=\"Validation RMSD\")\n",
    "axs[1].set_title(\"Gaussian Model\", size=16, family=\"serif\")\n",
    "axs[1].legend(loc = \"upper right\")\n",
    "\n",
    "axs[2].plot(multiquadratic_train_rmsd, color=\"navy\", label=\"Training RMSD\")\n",
    "axs[2].plot(multiquadratic_val_rmsd, color=\"red\", label=\"Validation RMSD\")\n",
    "axs[2].set_title(\"Multiquadratic Model\", size=16, family=\"serif\")\n",
    "axs[2].legend(loc = \"upper right\")\n",
    "\n",
    "plt.show()"
   ]
  }
 ],
 "metadata": {
  "kernelspec": {
   "display_name": "Python 3",
   "language": "python",
   "name": "python3"
  },
  "language_info": {
   "codemirror_mode": {
    "name": "ipython",
    "version": 3
   },
   "file_extension": ".py",
   "mimetype": "text/x-python",
   "name": "python",
   "nbconvert_exporter": "python",
   "pygments_lexer": "ipython3",
   "version": "3.12.0"
  }
 },
 "nbformat": 4,
 "nbformat_minor": 2
}
